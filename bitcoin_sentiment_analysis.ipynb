{
 "cells": [
  {
   "cell_type": "code",
   "execution_count": 1,
   "metadata": {},
   "outputs": [],
   "source": [
    "# Dependencies\n",
    "import tweepy   # twitter api\n",
    "import csv\n",
    "import pandas as pd                          # data analysis (dataframes, read file)\n",
    "import numpy as np                           # arrays and linear algebra\n",
    "from IPython.display import display          # print output in tabular format\n",
    "import matplotlib.pyplot as plt              # for 2D plotting\n",
    "import nltk"
   ]
  },
  {
   "cell_type": "code",
   "execution_count": 2,
   "metadata": {},
   "outputs": [
    {
     "name": "stdout",
     "output_type": "stream",
     "text": [
      "                                              Tweets                 Date  \\\n",
      "0  b'RT @IGToken_net: \\xf0\\x9f\\x94\\xa5\\xf0\\x9f\\x9...  2018-06-22 08:36:01   \n",
      "1  b'RT @KingCrypto_: How To Get Into Cryptocurre...  2018-06-22 08:36:00   \n",
      "2  b\"RT @KamikazePump: At 250 members I'll collec...  2018-06-22 08:35:59   \n",
      "3  b'RT @BTC_Supreme: Thank you to the @coingecko...  2018-06-22 08:35:56   \n",
      "4  b'#IXTUS, #Blockchain, #Bitcoin, #BTC, #Ethere...  2018-06-22 08:35:56   \n",
      "5                            b'bounce soon #bitcoin'  2018-06-22 08:35:55   \n",
      "6  b'RT @murthaburke: Luckchemy ICO- Provably Fai...  2018-06-22 08:35:51   \n",
      "7  b\"RT @SmartContracter: #FF\\n\\nThis week im onl...  2018-06-22 08:35:50   \n",
      "8  b'RT @bloggers_view: ABC of Google Analytics  ...  2018-06-22 08:35:49   \n",
      "9  b\"RT @Fisher85M: Why can't you cheat #bitcoin,...  2018-06-22 08:35:44   \n",
      "\n",
      "   Likes  Retweets   Hashtag  \n",
      "0      0      1263  #bitcoin  \n",
      "1      0         3  #bitcoin  \n",
      "2      0        23  #bitcoin  \n",
      "3      0         5  #bitcoin  \n",
      "4      0         0  #bitcoin  \n",
      "5      0         0  #bitcoin  \n",
      "6      0        12  #bitcoin  \n",
      "7      0         2  #bitcoin  \n",
      "8      0        28  #bitcoin  \n",
      "9      0        98  #bitcoin  \n"
     ]
    }
   ],
   "source": [
    "#Read csv file into dataframe\n",
    "\n",
    "bitcoin = pd.read_csv('bitcoin.csv', names = [\"Tweets\",\"Date\",\"Likes\",\"Retweets\",\"Hashtag\"])\n",
    "\n",
    "print (bitcoin.head(10))"
   ]
  },
  {
   "cell_type": "code",
   "execution_count": 3,
   "metadata": {},
   "outputs": [],
   "source": [
    "## Clean and Sentiment Analysis the Tweet\n",
    "\n",
    "from textblob import TextBlob                    # library for processing textual data          \n",
    "import re\n",
    "\n",
    "def clean_tweet(tweet):\n",
    "    return ' '.join(re.sub(\"(@[A-Za-z0-9]+)|([^0-9A-Za-z \\t])|(\\w+:\\/\\/\\S+)\", \" \", tweet).split())\n",
    "    #We're returning the tweet which is cleaned(after replacin' the above pattern to null which means deleting)\n",
    "\n",
    "\n",
    "def get_polarity(tweet):                         # here we're getting the polarity of each tweet after analysing it\n",
    "    analysis = TextBlob(clean_tweet(tweet))\n",
    "    if analysis.sentiment.polarity > 0:          #polarity tells whether the tweet is postive or negative or neutral\n",
    "        return 1\n",
    "    elif analysis.sentiment.polarity == 0:\n",
    "        return 0\n",
    "    else:\n",
    "        return -1"
   ]
  },
  {
   "cell_type": "code",
   "execution_count": 4,
   "metadata": {},
   "outputs": [],
   "source": [
    "bitcoin['Sentiment'] = np.array([ get_polarity(tweet) for tweet in bitcoin['Tweets'] ])"
   ]
  },
  {
   "cell_type": "code",
   "execution_count": 5,
   "metadata": {},
   "outputs": [
    {
     "name": "stdout",
     "output_type": "stream",
     "text": [
      "                                              Tweets                 Date  \\\n",
      "0  b'RT @IGToken_net: \\xf0\\x9f\\x94\\xa5\\xf0\\x9f\\x9...  2018-06-22 08:36:01   \n",
      "1  b'RT @KingCrypto_: How To Get Into Cryptocurre...  2018-06-22 08:36:00   \n",
      "2  b\"RT @KamikazePump: At 250 members I'll collec...  2018-06-22 08:35:59   \n",
      "3  b'RT @BTC_Supreme: Thank you to the @coingecko...  2018-06-22 08:35:56   \n",
      "4  b'#IXTUS, #Blockchain, #Bitcoin, #BTC, #Ethere...  2018-06-22 08:35:56   \n",
      "5                            b'bounce soon #bitcoin'  2018-06-22 08:35:55   \n",
      "6  b'RT @murthaburke: Luckchemy ICO- Provably Fai...  2018-06-22 08:35:51   \n",
      "7  b\"RT @SmartContracter: #FF\\n\\nThis week im onl...  2018-06-22 08:35:50   \n",
      "8  b'RT @bloggers_view: ABC of Google Analytics  ...  2018-06-22 08:35:49   \n",
      "9  b\"RT @Fisher85M: Why can't you cheat #bitcoin,...  2018-06-22 08:35:44   \n",
      "\n",
      "   Likes  Retweets   Hashtag  Sentiment  \n",
      "0      0      1263  #bitcoin          0  \n",
      "1      0         3  #bitcoin          0  \n",
      "2      0        23  #bitcoin          1  \n",
      "3      0         5  #bitcoin          0  \n",
      "4      0         0  #bitcoin          1  \n",
      "5      0         0  #bitcoin          0  \n",
      "6      0        12  #bitcoin          1  \n",
      "7      0         2  #bitcoin         -1  \n",
      "8      0        28  #bitcoin          0  \n",
      "9      0        98  #bitcoin          0  \n"
     ]
    }
   ],
   "source": [
    "## Print top 10 tweets and notice Sentiment field added at the end of each record\n",
    "print(bitcoin.head(10))"
   ]
  },
  {
   "cell_type": "code",
   "execution_count": 6,
   "metadata": {},
   "outputs": [],
   "source": [
    "## Classifying the tweets\n",
    "\n",
    "positive_tweets = [ tweet for index, tweet in enumerate(bitcoin['Tweets']) if bitcoin['Sentiment'][index] > 0]\n",
    "neutral_tweets = [ tweet for index, tweet in enumerate(bitcoin['Tweets']) if bitcoin['Sentiment'][index] == 0]\n",
    "negative_tweets = [ tweet for index, tweet in enumerate(bitcoin['Tweets']) if bitcoin['Sentiment'][index] < 0]      \n",
    "\n",
    "positive_data = pd.DataFrame (data = [ tweet for index, tweet in enumerate(bitcoin['Tweets']) if bitcoin['Sentiment'][index] > 0])\n",
    "neutral_data = [ tweet for index, tweet in enumerate(bitcoin['Tweets']) if bitcoin['Sentiment'][index] == 0]\n",
    "negative_data = [ tweet for index, tweet in enumerate(bitcoin['Tweets']) if bitcoin['Sentiment'][index] < 0] "
   ]
  },
  {
   "cell_type": "code",
   "execution_count": 7,
   "metadata": {},
   "outputs": [
    {
     "data": {
      "text/html": [
       "<div>\n",
       "<style scoped>\n",
       "    .dataframe tbody tr th:only-of-type {\n",
       "        vertical-align: middle;\n",
       "    }\n",
       "\n",
       "    .dataframe tbody tr th {\n",
       "        vertical-align: top;\n",
       "    }\n",
       "\n",
       "    .dataframe thead th {\n",
       "        text-align: right;\n",
       "    }\n",
       "</style>\n",
       "<table border=\"1\" class=\"dataframe\">\n",
       "  <thead>\n",
       "    <tr style=\"text-align: right;\">\n",
       "      <th></th>\n",
       "      <th>0</th>\n",
       "    </tr>\n",
       "  </thead>\n",
       "  <tbody>\n",
       "    <tr>\n",
       "      <th>0</th>\n",
       "      <td>b\"RT @KamikazePump: At 250 members I'll collec...</td>\n",
       "    </tr>\n",
       "    <tr>\n",
       "      <th>1</th>\n",
       "      <td>b'#IXTUS, #Blockchain, #Bitcoin, #BTC, #Ethere...</td>\n",
       "    </tr>\n",
       "    <tr>\n",
       "      <th>2</th>\n",
       "      <td>b'RT @murthaburke: Luckchemy ICO- Provably Fai...</td>\n",
       "    </tr>\n",
       "    <tr>\n",
       "      <th>3</th>\n",
       "      <td>b'good @pearl_pay #PRLPAY #Bitcoin #BTC #Komod...</td>\n",
       "    </tr>\n",
       "    <tr>\n",
       "      <th>4</th>\n",
       "      <td>b'RT @UnicornCoin_xyz: BIG NEWS! #UnicornCoin ...</td>\n",
       "    </tr>\n",
       "    <tr>\n",
       "      <th>5</th>\n",
       "      <td>b'#skyfchain #ICO #Crowdsale #Bitcoin #Blockch...</td>\n",
       "    </tr>\n",
       "    <tr>\n",
       "      <th>6</th>\n",
       "      <td>b'@availcrypto thanks you for following me! #c...</td>\n",
       "    </tr>\n",
       "    <tr>\n",
       "      <th>7</th>\n",
       "      <td>b'RT @_CryptoDude_: #Ardor and #Dominium about...</td>\n",
       "    </tr>\n",
       "    <tr>\n",
       "      <th>8</th>\n",
       "      <td>b'RT @x_ethereum: I will choose 20 random foll...</td>\n",
       "    </tr>\n",
       "    <tr>\n",
       "      <th>9</th>\n",
       "      <td>b'RT @qurrex: KEEP CALM &amp;amp; GET YOUR $QRX TO...</td>\n",
       "    </tr>\n",
       "    <tr>\n",
       "      <th>10</th>\n",
       "      <td>b'The project attracts its prospects and an ex...</td>\n",
       "    </tr>\n",
       "    <tr>\n",
       "      <th>11</th>\n",
       "      <td>b\"RT @Regnar__: You guys know what's up! @your...</td>\n",
       "    </tr>\n",
       "    <tr>\n",
       "      <th>12</th>\n",
       "      <td>b'https://t.co/Foi8Wg7PAL\\nO,yes,that is a gre...</td>\n",
       "    </tr>\n",
       "    <tr>\n",
       "      <th>13</th>\n",
       "      <td>b\"Japan's Biggest Bitcoin Exchange Halts New B...</td>\n",
       "    </tr>\n",
       "    <tr>\n",
       "      <th>14</th>\n",
       "      <td>b'RT @qurrex: KEEP CALM &amp;amp; GET YOUR $QRX TO...</td>\n",
       "    </tr>\n",
       "    <tr>\n",
       "      <th>15</th>\n",
       "      <td>b'RT @OptiToken: Our Telegram group is now ove...</td>\n",
       "    </tr>\n",
       "    <tr>\n",
       "      <th>16</th>\n",
       "      <td>b'BITEX is the main and major resYource in the...</td>\n",
       "    </tr>\n",
       "    <tr>\n",
       "      <th>17</th>\n",
       "      <td>b'RT @CybitCorp: Read more about it at https:/...</td>\n",
       "    </tr>\n",
       "    <tr>\n",
       "      <th>18</th>\n",
       "      <td>b'RT @ArminVanBitcoin: 9 years later...\\n\\n- s...</td>\n",
       "    </tr>\n",
       "    <tr>\n",
       "      <th>19</th>\n",
       "      <td>b'Many people saw the prospect of this project...</td>\n",
       "    </tr>\n",
       "    <tr>\n",
       "      <th>20</th>\n",
       "      <td>b'RT @murthaburke: #RT @DataBrokerDAO is the F...</td>\n",
       "    </tr>\n",
       "    <tr>\n",
       "      <th>21</th>\n",
       "      <td>b'RT @Etherprivate12: I will choose 10 random ...</td>\n",
       "    </tr>\n",
       "    <tr>\n",
       "      <th>22</th>\n",
       "      <td>b'RT @Monarchtoken: The Monarch platform will ...</td>\n",
       "    </tr>\n",
       "    <tr>\n",
       "      <th>23</th>\n",
       "      <td>b'RT @ico_dog: That\\xe2\\x80\\x99s right it\\xe2\\...</td>\n",
       "    </tr>\n",
       "    <tr>\n",
       "      <th>24</th>\n",
       "      <td>b'RT @GuariumContact: New Malta Bankers Associ...</td>\n",
       "    </tr>\n",
       "    <tr>\n",
       "      <th>25</th>\n",
       "      <td>b'RT @Monarchtoken: The Monarch platform will ...</td>\n",
       "    </tr>\n",
       "    <tr>\n",
       "      <th>26</th>\n",
       "      <td>b'RT @Airdrop_55: I will choose 20 random foll...</td>\n",
       "    </tr>\n",
       "    <tr>\n",
       "      <th>27</th>\n",
       "      <td>b'RT @blockonomics_co: Could #cryptocurrency c...</td>\n",
       "    </tr>\n",
       "    <tr>\n",
       "      <th>28</th>\n",
       "      <td>b'RT @RichSimmondsZA: Thinking about #Bitcoin ...</td>\n",
       "    </tr>\n",
       "    <tr>\n",
       "      <th>29</th>\n",
       "      <td>b'Trust to @fluxorin_io team is growing every ...</td>\n",
       "    </tr>\n",
       "    <tr>\n",
       "      <th>...</th>\n",
       "      <td>...</td>\n",
       "    </tr>\n",
       "    <tr>\n",
       "      <th>14391</th>\n",
       "      <td>b'RT @kucoincom: We are launching a new listin...</td>\n",
       "    </tr>\n",
       "    <tr>\n",
       "      <th>14392</th>\n",
       "      <td>b'RT @x_ethereum: I will choose 20 random foll...</td>\n",
       "    </tr>\n",
       "    <tr>\n",
       "      <th>14393</th>\n",
       "      <td>b'Coin Social Price Alert! #BTC price : 6713.8...</td>\n",
       "    </tr>\n",
       "    <tr>\n",
       "      <th>14394</th>\n",
       "      <td>b'RT @kucoincom: We are launching a new listin...</td>\n",
       "    </tr>\n",
       "    <tr>\n",
       "      <th>14395</th>\n",
       "      <td>b\"RT @nobar_io: Hear from NOBAR's CEO on how y...</td>\n",
       "    </tr>\n",
       "    <tr>\n",
       "      <th>14396</th>\n",
       "      <td>b'RT @kucoincom: We are launching a new listin...</td>\n",
       "    </tr>\n",
       "    <tr>\n",
       "      <th>14397</th>\n",
       "      <td>b'RT @CryptoAddict14: Invite your friends in o...</td>\n",
       "    </tr>\n",
       "    <tr>\n",
       "      <th>14398</th>\n",
       "      <td>b'Join RAXOM airdrop And get 5000 RXM Worth 80...</td>\n",
       "    </tr>\n",
       "    <tr>\n",
       "      <th>14399</th>\n",
       "      <td>b'RT @cryptfunder: Cryptfunder Crypto Origins ...</td>\n",
       "    </tr>\n",
       "    <tr>\n",
       "      <th>14400</th>\n",
       "      <td>b'RT @kucoincom: We are launching a new listin...</td>\n",
       "    </tr>\n",
       "    <tr>\n",
       "      <th>14401</th>\n",
       "      <td>b'RT @kucoincom: We are launching a new listin...</td>\n",
       "    </tr>\n",
       "    <tr>\n",
       "      <th>14402</th>\n",
       "      <td>b'RT @SaxoToken: SaxoToken is giving out 25,00...</td>\n",
       "    </tr>\n",
       "    <tr>\n",
       "      <th>14403</th>\n",
       "      <td>b'RT @LB_whiteshark: #bitcoin #bulls are comin...</td>\n",
       "    </tr>\n",
       "    <tr>\n",
       "      <th>14404</th>\n",
       "      <td>b'Inside here is one #bitcoin. Decode it and e...</td>\n",
       "    </tr>\n",
       "    <tr>\n",
       "      <th>14405</th>\n",
       "      <td>b'RT @kucoincom: We are launching a new listin...</td>\n",
       "    </tr>\n",
       "    <tr>\n",
       "      <th>14406</th>\n",
       "      <td>b'RT @ObitanChain: \\xf0\\x9f\\x8e\\x81\\xf0\\x9f\\x8...</td>\n",
       "    </tr>\n",
       "    <tr>\n",
       "      <th>14407</th>\n",
       "      <td>b'RT @kucoincom: We are launching a new listin...</td>\n",
       "    </tr>\n",
       "    <tr>\n",
       "      <th>14408</th>\n",
       "      <td>b'RT @kucoincom: We are launching a new listin...</td>\n",
       "    </tr>\n",
       "    <tr>\n",
       "      <th>14409</th>\n",
       "      <td>b'RT @Pearl_Pay: #PearlPay is rewarding 1,000,...</td>\n",
       "    </tr>\n",
       "    <tr>\n",
       "      <th>14410</th>\n",
       "      <td>b'RT @TrustedCars: Cars are not only fun for g...</td>\n",
       "    </tr>\n",
       "    <tr>\n",
       "      <th>14411</th>\n",
       "      <td>b'RT @kucoincom: We are launching a new listin...</td>\n",
       "    </tr>\n",
       "    <tr>\n",
       "      <th>14412</th>\n",
       "      <td>b'RT @kucoincom: We are launching a new listin...</td>\n",
       "    </tr>\n",
       "    <tr>\n",
       "      <th>14413</th>\n",
       "      <td>b'RT @x_ethereum: I will choose 20 random foll...</td>\n",
       "    </tr>\n",
       "    <tr>\n",
       "      <th>14414</th>\n",
       "      <td>b'RT @kucoincom: We are launching a new listin...</td>\n",
       "    </tr>\n",
       "    <tr>\n",
       "      <th>14415</th>\n",
       "      <td>b'RT @kucoincom: We are launching a new listin...</td>\n",
       "    </tr>\n",
       "    <tr>\n",
       "      <th>14416</th>\n",
       "      <td>b'RT @kucoincom: We are launching a new listin...</td>\n",
       "    </tr>\n",
       "    <tr>\n",
       "      <th>14417</th>\n",
       "      <td>b'RT @Pearl_Pay: #PearlPay is rewarding 1,000,...</td>\n",
       "    </tr>\n",
       "    <tr>\n",
       "      <th>14418</th>\n",
       "      <td>b'This must be a first.. since when is #binanc...</td>\n",
       "    </tr>\n",
       "    <tr>\n",
       "      <th>14419</th>\n",
       "      <td>b'RT @freecryptorobot: \\xf0\\x9f\\x9a\\x80#Bitcoi...</td>\n",
       "    </tr>\n",
       "    <tr>\n",
       "      <th>14420</th>\n",
       "      <td>b'RT @kucoincom: We are launching a new listin...</td>\n",
       "    </tr>\n",
       "  </tbody>\n",
       "</table>\n",
       "<p>14421 rows × 1 columns</p>\n",
       "</div>"
      ],
      "text/plain": [
       "                                                       0\n",
       "0      b\"RT @KamikazePump: At 250 members I'll collec...\n",
       "1      b'#IXTUS, #Blockchain, #Bitcoin, #BTC, #Ethere...\n",
       "2      b'RT @murthaburke: Luckchemy ICO- Provably Fai...\n",
       "3      b'good @pearl_pay #PRLPAY #Bitcoin #BTC #Komod...\n",
       "4      b'RT @UnicornCoin_xyz: BIG NEWS! #UnicornCoin ...\n",
       "5      b'#skyfchain #ICO #Crowdsale #Bitcoin #Blockch...\n",
       "6      b'@availcrypto thanks you for following me! #c...\n",
       "7      b'RT @_CryptoDude_: #Ardor and #Dominium about...\n",
       "8      b'RT @x_ethereum: I will choose 20 random foll...\n",
       "9      b'RT @qurrex: KEEP CALM &amp; GET YOUR $QRX TO...\n",
       "10     b'The project attracts its prospects and an ex...\n",
       "11     b\"RT @Regnar__: You guys know what's up! @your...\n",
       "12     b'https://t.co/Foi8Wg7PAL\\nO,yes,that is a gre...\n",
       "13     b\"Japan's Biggest Bitcoin Exchange Halts New B...\n",
       "14     b'RT @qurrex: KEEP CALM &amp; GET YOUR $QRX TO...\n",
       "15     b'RT @OptiToken: Our Telegram group is now ove...\n",
       "16     b'BITEX is the main and major resYource in the...\n",
       "17     b'RT @CybitCorp: Read more about it at https:/...\n",
       "18     b'RT @ArminVanBitcoin: 9 years later...\\n\\n- s...\n",
       "19     b'Many people saw the prospect of this project...\n",
       "20     b'RT @murthaburke: #RT @DataBrokerDAO is the F...\n",
       "21     b'RT @Etherprivate12: I will choose 10 random ...\n",
       "22     b'RT @Monarchtoken: The Monarch platform will ...\n",
       "23     b'RT @ico_dog: That\\xe2\\x80\\x99s right it\\xe2\\...\n",
       "24     b'RT @GuariumContact: New Malta Bankers Associ...\n",
       "25     b'RT @Monarchtoken: The Monarch platform will ...\n",
       "26     b'RT @Airdrop_55: I will choose 20 random foll...\n",
       "27     b'RT @blockonomics_co: Could #cryptocurrency c...\n",
       "28     b'RT @RichSimmondsZA: Thinking about #Bitcoin ...\n",
       "29     b'Trust to @fluxorin_io team is growing every ...\n",
       "...                                                  ...\n",
       "14391  b'RT @kucoincom: We are launching a new listin...\n",
       "14392  b'RT @x_ethereum: I will choose 20 random foll...\n",
       "14393  b'Coin Social Price Alert! #BTC price : 6713.8...\n",
       "14394  b'RT @kucoincom: We are launching a new listin...\n",
       "14395  b\"RT @nobar_io: Hear from NOBAR's CEO on how y...\n",
       "14396  b'RT @kucoincom: We are launching a new listin...\n",
       "14397  b'RT @CryptoAddict14: Invite your friends in o...\n",
       "14398  b'Join RAXOM airdrop And get 5000 RXM Worth 80...\n",
       "14399  b'RT @cryptfunder: Cryptfunder Crypto Origins ...\n",
       "14400  b'RT @kucoincom: We are launching a new listin...\n",
       "14401  b'RT @kucoincom: We are launching a new listin...\n",
       "14402  b'RT @SaxoToken: SaxoToken is giving out 25,00...\n",
       "14403  b'RT @LB_whiteshark: #bitcoin #bulls are comin...\n",
       "14404  b'Inside here is one #bitcoin. Decode it and e...\n",
       "14405  b'RT @kucoincom: We are launching a new listin...\n",
       "14406  b'RT @ObitanChain: \\xf0\\x9f\\x8e\\x81\\xf0\\x9f\\x8...\n",
       "14407  b'RT @kucoincom: We are launching a new listin...\n",
       "14408  b'RT @kucoincom: We are launching a new listin...\n",
       "14409  b'RT @Pearl_Pay: #PearlPay is rewarding 1,000,...\n",
       "14410  b'RT @TrustedCars: Cars are not only fun for g...\n",
       "14411  b'RT @kucoincom: We are launching a new listin...\n",
       "14412  b'RT @kucoincom: We are launching a new listin...\n",
       "14413  b'RT @x_ethereum: I will choose 20 random foll...\n",
       "14414  b'RT @kucoincom: We are launching a new listin...\n",
       "14415  b'RT @kucoincom: We are launching a new listin...\n",
       "14416  b'RT @kucoincom: We are launching a new listin...\n",
       "14417  b'RT @Pearl_Pay: #PearlPay is rewarding 1,000,...\n",
       "14418  b'This must be a first.. since when is #binanc...\n",
       "14419  b'RT @freecryptorobot: \\xf0\\x9f\\x9a\\x80#Bitcoi...\n",
       "14420  b'RT @kucoincom: We are launching a new listin...\n",
       "\n",
       "[14421 rows x 1 columns]"
      ]
     },
     "execution_count": 7,
     "metadata": {},
     "output_type": "execute_result"
    }
   ],
   "source": [
    "positive_data"
   ]
  },
  {
   "cell_type": "code",
   "execution_count": 8,
   "metadata": {},
   "outputs": [
    {
     "name": "stdout",
     "output_type": "stream",
     "text": [
      "['b\"RT @KamikazePump: At 250 members I\\'ll collect 10 random people to win 1.000.000 SHND.\\\\n\\\\nHow to win ?\\\\n\\\\n1.Follow\\\\n2.Join https://t.co/6m0HdIV2q\\\\xe2\\\\x80\\\\xa6\"', \"b'#IXTUS, #Blockchain, #Bitcoin, #BTC, #Ethereum, #ETH, #ICO, #bounty\\\\n hope this project will succes and have a good\\\\xe2\\\\x80\\\\xa6 https://t.co/zu3AVyZ9ZD'\", \"b'RT @murthaburke: Luckchemy ICO- Provably Fair Online Gambling Platform! %40 Off Right NOW!\\\\nhttps://t.co/WHqyqDVxMk\\\\n@BIGMONEYMIKE6 @iamjamie\\\\xe2\\\\x80\\\\xa6'\", \"b'good @pearl_pay #PRLPAY #Bitcoin #BTC #Komodo #KMD\\\\nForm Link: https://t.co/4i45DXhd5M https://t.co/7rjtWqYdYa'\", \"b'RT @UnicornCoin_xyz: BIG NEWS! #UnicornCoin enters discussions with #Disney for an #exclusive collaboration! To win 1000 UCC worth 2 ETH:\\\\n1\\\\xe2\\\\x80\\\\xa6'\", \"b'#skyfchain #ICO #Crowdsale #Bitcoin #Blockchain #Token #ETH #Ethereum #TokenSale\\\\nSKYFchain is the first blockchain\\\\xe2\\\\x80\\\\xa6 https://t.co/LoAkNN7Hqu'\", \"b'@availcrypto thanks you for following me! #crypto #bitcoin #ethereum #bitcointalk https://t.co/hHsB92eYDT'\", \"b'RT @_CryptoDude_: #Ardor and #Dominium about to hit main stream. \\\\n\\\\n#Bitcoin #Ether #EOS #Tron #IOTA #ADA #NEM\\\\n\\\\n https://t.co/erIg7X8GDG'\", \"b'RT @x_ethereum: I will choose 20 random followers to win 0.2 ETH\\\\n\\\\nPlease:\\\\n\\\\n1. FOLLOW\\\\n2. LIKE AND RETWEET \\\\n3. Comment your ETH address\\\\n\\\\n#air\\\\xe2\\\\x80\\\\xa6'\", \"b'RT @qurrex: KEEP CALM &amp; GET YOUR $QRX TOKENS https://t.co/qOv2NlfMVU  \\\\n\\\\n#TokenSale #bitcoin #crypto #blockchain #exchange #ICO #EOS #TRX #A\\\\xe2\\\\x80\\\\xa6'\"]\n"
     ]
    }
   ],
   "source": [
    "## Print the positive tweets\n",
    "\n",
    "print(positive_tweets[:10])"
   ]
  },
  {
   "cell_type": "code",
   "execution_count": 9,
   "metadata": {},
   "outputs": [
    {
     "data": {
      "image/png": "[encoded data removed]",
      "text/plain": [
       "<matplotlib.figure.Figure at 0x2656845b748>"
      ]
     },
     "metadata": {},
     "output_type": "display_data"
    }
   ],
   "source": [
    "## Plotting sentiment points \n",
    "\n",
    "bitcoin.plot(x='Date',y='Sentiment',style='x')\n",
    "plt.show()"
   ]
  },
  {
   "cell_type": "code",
   "execution_count": 10,
   "metadata": {},
   "outputs": [
    {
     "data": {
      "text/plain": [
       " 1    14421\n",
       " 0    11284\n",
       "-1     2482\n",
       "Name: Sentiment, dtype: int64"
      ]
     },
     "execution_count": 10,
     "metadata": {},
     "output_type": "execute_result"
    }
   ],
   "source": [
    "sentiment_count = bitcoin['Sentiment'].value_counts()\n",
    "sentiment_count"
   ]
  },
  {
   "cell_type": "code",
   "execution_count": 31,
   "metadata": {},
   "outputs": [
    {
     "data": {
      "text/html": [
       "<div>\n",
       "<style scoped>\n",
       "    .dataframe tbody tr th:only-of-type {\n",
       "        vertical-align: middle;\n",
       "    }\n",
       "\n",
       "    .dataframe tbody tr th {\n",
       "        vertical-align: top;\n",
       "    }\n",
       "\n",
       "    .dataframe thead th {\n",
       "        text-align: right;\n",
       "    }\n",
       "</style>\n",
       "<table border=\"1\" class=\"dataframe\">\n",
       "  <thead>\n",
       "    <tr style=\"text-align: right;\">\n",
       "      <th></th>\n",
       "      <th>Tweets</th>\n",
       "      <th>Date</th>\n",
       "      <th>Likes</th>\n",
       "      <th>Retweets</th>\n",
       "      <th>Hashtag</th>\n",
       "      <th>Sentiment</th>\n",
       "    </tr>\n",
       "  </thead>\n",
       "  <tbody>\n",
       "    <tr>\n",
       "      <th>6517</th>\n",
       "      <td>b'RT @btc: Bitcoin Giveaway #2: As promised, w...</td>\n",
       "      <td>2018-06-22 03:37:54</td>\n",
       "      <td>0</td>\n",
       "      <td>15669</td>\n",
       "      <td>#bitcoin</td>\n",
       "      <td>0</td>\n",
       "    </tr>\n",
       "  </tbody>\n",
       "</table>\n",
       "</div>"
      ],
      "text/plain": [
       "                                                 Tweets                 Date  \\\n",
       "6517  b'RT @btc: Bitcoin Giveaway #2: As promised, w...  2018-06-22 03:37:54   \n",
       "\n",
       "      Likes  Retweets   Hashtag  Sentiment  \n",
       "6517      0     15669  #bitcoin          0  "
      ]
     },
     "execution_count": 31,
     "metadata": {},
     "output_type": "execute_result"
    }
   ],
   "source": [
    "max_retweet = bitcoin[bitcoin['Retweets']==bitcoin['Retweets'].max()]\n",
    "max_retweet"
   ]
  },
  {
   "cell_type": "code",
   "execution_count": 11,
   "metadata": {},
   "outputs": [
    {
     "data": {
      "text/plain": [
       "#btc        16321\n",
       "#bitcoin    11866\n",
       "Name: Hashtag, dtype: int64"
      ]
     },
     "execution_count": 11,
     "metadata": {},
     "output_type": "execute_result"
    }
   ],
   "source": [
    "bitcoin['Hashtag'].value_counts()"
   ]
  },
  {
   "cell_type": "code",
   "execution_count": 12,
   "metadata": {},
   "outputs": [
    {
     "data": {
      "image/png": "[encoded data removed]",
      "text/plain": [
       "<matplotlib.figure.Figure at 0x26568466ac8>"
      ]
     },
     "metadata": {},
     "output_type": "display_data"
    }
   ],
   "source": [
    "sizes = [len(positive_tweets), len(negative_tweets), len(neutral_tweets)]\n",
    "colors = ['green', 'red', 'blue']\n",
    "labels = 'Positive', 'Negative', 'Neutral'\n",
    "\n",
    "plt.pie(\n",
    "   x=sizes,\n",
    "   shadow=True,\n",
    "   colors=colors,\n",
    "   labels=labels,\n",
    "   startangle=90\n",
    ")\n",
    "\n",
    "#plt.title(\"Sentiment of {} Tweets about {}\".format(number, query))\n",
    "plt.show()"
   ]
  },
  {
   "cell_type": "code",
   "execution_count": 15,
   "metadata": {},
   "outputs": [
    {
     "data": {
      "text/plain": [
       "\"b'RT @murthaburke: Luckchemy ICO- Provably Fair Online Gambling Platform! %40 Off Right NOW!\\\\nhttps://t.co/WHqyqDVxMk\\\\n@BIGMONEYMIKE6 @iamjamie\\\\xe2\\\\x80\\\\xa6'\""
      ]
     },
     "execution_count": 15,
     "metadata": {},
     "output_type": "execute_result"
    }
   ],
   "source": [
    "# Let us test whether sentiment analysis is done correctly. Print sixth tweet.\n",
    "\n",
    "bitcoin[\"Tweets\"][6]"
   ]
  },
  {
   "cell_type": "code",
   "execution_count": 16,
   "metadata": {},
   "outputs": [
    {
     "data": {
      "text/plain": [
       "1"
      ]
     },
     "execution_count": 16,
     "metadata": {},
     "output_type": "execute_result"
    }
   ],
   "source": [
    "bitcoin[\"Sentiment\"][6]"
   ]
  },
  {
   "cell_type": "code",
   "execution_count": 19,
   "metadata": {},
   "outputs": [],
   "source": [
    "positive_data.columns = ['Text']"
   ]
  },
  {
   "cell_type": "code",
   "execution_count": 20,
   "metadata": {},
   "outputs": [
    {
     "name": "stdout",
     "output_type": "stream",
     "text": [
      "[nltk_data] Downloading package stopwords to\n",
      "[nltk_data]     C:\\Users\\saraf\\AppData\\Roaming\\nltk_data...\n",
      "[nltk_data]   Package stopwords is already up-to-date!\n",
      "xe2: 15163\n",
      "n: 14484\n",
      "x80: 14286\n",
      "xa6: 12994\n",
      "b'rt: 10665\n",
      "new: 3915\n",
      "btc: 3756\n",
      "ndetails: 3559\n",
      "total: 3297\n",
      "launching: 3285\n",
      "listing: 3271\n",
      "rewards: 3269\n",
      "together: 3261\n",
      "promotion: 3259\n",
      "@kucoincom: 3250\n",
      "1,000: 3191\n",
      "aoa: 2510\n",
      "@auroraoffic_en: 2509\n",
      "av: 2507\n",
      "#bitcoin: 2389\n",
      "xf0: 2227\n",
      "x9f: 2226\n",
      "eth: 2009\n",
      "b: 1893\n",
      ":\\: 1323\n",
      "n1: 1234\n",
      "#btc: 1160\n",
      "#airdrop: 1158\n",
      "win: 1116\n",
      "#crypto: 1107\n",
      "like: 1064\n",
      "airdrop: 1037\n",
      "follow: 1004\n",
      "#blockchain: 1003\n",
      "get: 965\n",
      "retweet: 949\n",
      "n2: 938\n",
      "#bounty: 933\n",
      "x83: 870\n",
      "xe3: 859\n",
      "n3: 844\n",
      "@qurrex: 802\n",
      "coins: 800\n",
      ":/: 768\n",
      "followers: 758\n",
      "comment: 758\n",
      "tokens: 749\n",
      "address: 733\n",
      "platform: 728\n",
      "participate: 721\n"
     ]
    }
   ],
   "source": [
    "import string\n",
    "from collections import Counter\n",
    "from nltk.tokenize import TweetTokenizer #specially to handle tweets into documents\n",
    "from nltk.corpus import stopwords # to remove stop words like is, was etc...\n",
    "import nltk\n",
    "nltk.download('stopwords')\n",
    "from nltk.corpus import wordnet\n",
    "\n",
    "def process(text, tokenizer=TweetTokenizer(), stopwords=[]):\n",
    "    #text = text.lower() # for normalization\n",
    "    text = ' '.join(text).lower()\n",
    "    tokens = tokenizer.tokenize(text)\n",
    "    return [tok for tok in tokens if not tok in stopwords and not tok.isdigit()]\n",
    "\n",
    "#fname = \"C:\\\\Users\\\\saraf\\\\Desktop\\\\CBA\\\\Term 1\\\\Practicum\\\\IPL\\\\output1.jsonl\"\n",
    "tweet_tokenizer = TweetTokenizer()\n",
    "punct = list(string.punctuation)\n",
    "stopword_list = stopwords.words('english') + punct + ['rt','via', '...']\n",
    "tf = Counter()\n",
    "tokens = process(text=positive_data['Text'],tokenizer=tweet_tokenizer,stopwords=stopword_list)\n",
    "tf.update(tokens)\n",
    "for tag, count in tf.most_common(50):\n",
    "        print(\"{}: {}\".format(tag, count))"
   ]
  },
  {
   "cell_type": "code",
   "execution_count": 21,
   "metadata": {},
   "outputs": [
    {
     "name": "stdout",
     "output_type": "stream",
     "text": [
      "[('btc', 4967), ('new', 4162), ('ndetails', 3559), ('total', 3298), ('launching', 3285), ('listing', 3271), ('rewards', 3269), ('together', 3261), ('promotion', 3260), ('kucoincom', 3250), ('bitcoin', 2915), ('aoa', 2511), ('av', 2507), ('eth', 2266), ('airdrop', 2213), ('crypto', 1509), ('blockchain', 1369), ('qurrex', 1328), ('win', 1125), ('follow', 1100), ('like', 1078), ('ico', 1068), ('retweet', 1048), ('get', 1018), ('bounty', 1016), ('cryptocurrency', 838), ('coins', 819), ('tokens', 782), ('followers', 759), ('comment', 758), ('platform', 733), ('address', 733), ('participate', 724), ('nhttps', 722), ('first', 719), ('worth', 713), ('prlpay', 688), ('rewarding', 674), ('pearlpay', 670), ('airdropalert', 667), ('pr', 663), ('random', 660), ('choose', 619), ('still', 614), ('xef', 605), ('free', 601), ('cbc', 597), ('join', 596), ('cashbetcoin', 596), ('availabl', 594)]\n"
     ]
    }
   ],
   "source": [
    "from nltk.tokenize import wordpunct_tokenize\n",
    "from subprocess import check_output\n",
    "\n",
    "def process(text, tokenizer=TweetTokenizer(), stopwords=[]):\n",
    "    #text = text.lower() # for normalization\n",
    "    text = ' '.join(text).lower()\n",
    "    tokens = tokenizer.tokenize(text)\n",
    "    return [tok for tok in tokens if not tok in stopwords and not tok.isdigit()]\n",
    "\n",
    "#fname = \"C:\\\\Users\\\\saraf\\\\Desktop\\\\CBA\\\\Term 1\\\\Practicum\\\\IPL\\\\output1.jsonl\"\n",
    "tweet_tokenizer = TweetTokenizer()\n",
    "punct = list(string.punctuation)\n",
    "stopword_list = stopwords.words('english') + punct + ['b','n','co','versaratrade','rt','via', '...','b\\'rt','https','#versaratrade','@versaratrade','@', '#', 'amp', 'http', '/', '://', '_',]\n",
    "series_tweets = positive_data['Text']\n",
    "tweet_str = series_tweets.str.cat(sep = ' ')\n",
    "list_of_words = [i.lower() for i in wordpunct_tokenize(tweet_str) if i.lower() not in stopword_list and i.isalpha()]\n",
    "wordfreqdist = nltk.FreqDist(list_of_words)\n",
    "mostcommon = wordfreqdist.most_common(50)\n",
    "print(mostcommon)\n"
   ]
  },
  {
   "cell_type": "code",
   "execution_count": 22,
   "metadata": {},
   "outputs": [],
   "source": [
    "mostcom = str(mostcommon)"
   ]
  },
  {
   "cell_type": "code",
   "execution_count": 23,
   "metadata": {},
   "outputs": [
    {
     "data": {
      "text/html": [
       "<div>\n",
       "<style scoped>\n",
       "    .dataframe tbody tr th:only-of-type {\n",
       "        vertical-align: middle;\n",
       "    }\n",
       "\n",
       "    .dataframe tbody tr th {\n",
       "        vertical-align: top;\n",
       "    }\n",
       "\n",
       "    .dataframe thead th {\n",
       "        text-align: right;\n",
       "    }\n",
       "</style>\n",
       "<table border=\"1\" class=\"dataframe\">\n",
       "  <thead>\n",
       "    <tr style=\"text-align: right;\">\n",
       "      <th></th>\n",
       "      <th>word</th>\n",
       "      <th>frequency</th>\n",
       "    </tr>\n",
       "  </thead>\n",
       "  <tbody>\n",
       "    <tr>\n",
       "      <th>0</th>\n",
       "      <td>btc</td>\n",
       "      <td>4967</td>\n",
       "    </tr>\n",
       "    <tr>\n",
       "      <th>1</th>\n",
       "      <td>new</td>\n",
       "      <td>4162</td>\n",
       "    </tr>\n",
       "    <tr>\n",
       "      <th>2</th>\n",
       "      <td>ndetails</td>\n",
       "      <td>3559</td>\n",
       "    </tr>\n",
       "    <tr>\n",
       "      <th>3</th>\n",
       "      <td>total</td>\n",
       "      <td>3298</td>\n",
       "    </tr>\n",
       "    <tr>\n",
       "      <th>4</th>\n",
       "      <td>launching</td>\n",
       "      <td>3285</td>\n",
       "    </tr>\n",
       "    <tr>\n",
       "      <th>5</th>\n",
       "      <td>listing</td>\n",
       "      <td>3271</td>\n",
       "    </tr>\n",
       "    <tr>\n",
       "      <th>6</th>\n",
       "      <td>rewards</td>\n",
       "      <td>3269</td>\n",
       "    </tr>\n",
       "    <tr>\n",
       "      <th>7</th>\n",
       "      <td>together</td>\n",
       "      <td>3261</td>\n",
       "    </tr>\n",
       "    <tr>\n",
       "      <th>8</th>\n",
       "      <td>promotion</td>\n",
       "      <td>3260</td>\n",
       "    </tr>\n",
       "    <tr>\n",
       "      <th>9</th>\n",
       "      <td>kucoincom</td>\n",
       "      <td>3250</td>\n",
       "    </tr>\n",
       "  </tbody>\n",
       "</table>\n",
       "</div>"
      ],
      "text/plain": [
       "        word  frequency\n",
       "0        btc       4967\n",
       "1        new       4162\n",
       "2   ndetails       3559\n",
       "3      total       3298\n",
       "4  launching       3285\n",
       "5    listing       3271\n",
       "6    rewards       3269\n",
       "7   together       3261\n",
       "8  promotion       3260\n",
       "9  kucoincom       3250"
      ]
     },
     "execution_count": 23,
     "metadata": {},
     "output_type": "execute_result"
    }
   ],
   "source": [
    "data_new = pd.DataFrame(mostcommon, columns = ['word','frequency'])\n",
    "data_new.head(10)"
   ]
  },
  {
   "cell_type": "code",
   "execution_count": 24,
   "metadata": {},
   "outputs": [
    {
     "data": {
      "image/png": "[encoded data removed]",
      "text/plain": [
       "<matplotlib.figure.Figure at 0x2656844f9e8>"
      ]
     },
     "metadata": {},
     "output_type": "display_data"
    }
   ],
   "source": [
    "plt.barh(range(len(mostcommon)),[val[1] for val in mostcommon], align='center')\n",
    "plt.yticks(range(len(mostcommon)), [val[0] for val in mostcommon])\n",
    "plt.show()"
   ]
  },
  {
   "cell_type": "code",
   "execution_count": 27,
   "metadata": {},
   "outputs": [
    {
     "data": {
      "text/plain": [
       "(-0.5, 399.5, 199.5, -0.5)"
      ]
     },
     "execution_count": 27,
     "metadata": {},
     "output_type": "execute_result"
    },
    {
     "data": {
      "image/png": "[encoded data removed]",
      "text/plain": [
       "<matplotlib.figure.Figure at 0x2656a5bd390>"
      ]
     },
     "metadata": {},
     "output_type": "display_data"
    }
   ],
   "source": [
    "from wordcloud import WordCloud\n",
    "\n",
    "wordcloud = WordCloud(max_font_size=60\n",
    "                      , background_color=\"white\"\n",
    "                      , stopwords=stopword_list\n",
    "                      , collocations=False).generate(mostcom)\n",
    "\n",
    "# Display the generated image with matplotlib \n",
    "plt.figure(figsize=(10,8))\n",
    "plt.imshow(wordcloud)\n",
    "plt.title('Positive Sentiments Bitcoin Word Cloud')\n",
    "plt.savefig(\"wordcloud_bitcoin.png\")\n",
    "plt.axis(\"off\")"
   ]
  },
  {
   "cell_type": "code",
   "execution_count": null,
   "metadata": {},
   "outputs": [],
   "source": []
  }
 ],
 "metadata": {
  "kernelspec": {
   "display_name": "Python 3",
   "language": "python",
   "name": "python3"
  },
  "language_info": {
   "codemirror_mode": {
    "name": "ipython",
    "version": 3
   },
   "file_extension": ".py",
   "mimetype": "text/x-python",
   "name": "python",
   "nbconvert_exporter": "python",
   "pygments_lexer": "ipython3",
   "version": "3.6.4"
  }
 },
 "nbformat": 4,
 "nbformat_minor": 2
}
