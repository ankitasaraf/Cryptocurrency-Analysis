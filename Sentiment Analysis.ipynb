{
 "cells": [
  {
   "cell_type": "code",
   "execution_count": 1,
   "metadata": {},
   "outputs": [],
   "source": [
    "# Dependencies\n",
    "import tweepy   # twitter api\n",
    "import csv\n",
    "import pandas as pd                          # data analysis (dataframes, read file)\n",
    "import numpy as np                           # arrays and linear algebra\n",
    "from IPython.display import display          # print output in tabular format\n",
    "import matplotlib.pyplot as plt              # for 2D plotting\n",
    "import nltk"
   ]
  },
  {
   "cell_type": "code",
   "execution_count": 2,
   "metadata": {},
   "outputs": [
    {
     "name": "stdout",
     "output_type": "stream",
     "text": [
      "                                              Tweets                 Date  \\\n",
      "0  b'RT @MikeQuindazzi: 1,006 #blockchain technol...  2018-06-22 10:19:39   \n",
      "1  b'RT @andi_staub: Women In #Blockchain; The Wh...  2018-06-22 10:19:25   \n",
      "2  b'RT @stawealthadv: For those that invest in #...  2018-06-22 10:19:21   \n",
      "3  b'RT @PumpUpBTC: Ethereum Classic Price Defies...  2018-06-22 10:19:18   \n",
      "4  b'RT @parschain: Only a few hours, and our \\xe...  2018-06-22 10:19:18   \n",
      "5  b'RT @BitcoinPablito: #DeepOnion will moon soo...  2018-06-22 10:19:00   \n",
      "6  b'RT @BitcoinPablito: #DeepOnion will moon soo...  2018-06-22 10:18:55   \n",
      "7  b'RT @BitcoinPablito: #DeepOnion will moon soo...  2018-06-22 10:18:47   \n",
      "8  b'RT @KureCoinHub: #kurechain vision\\n\\n #kure...  2018-06-22 10:18:39   \n",
      "9  b'RT @crypto_rand: I just published \\xe2\\x80\\x...  2018-06-22 10:18:02   \n",
      "\n",
      "   Likes  Retweets            Hashtag  \n",
      "0      0        34  #cryptocurrencies  \n",
      "1      0        40  #cryptocurrencies  \n",
      "2      0         1  #cryptocurrencies  \n",
      "3      0         1  #cryptocurrencies  \n",
      "4      0         4  #cryptocurrencies  \n",
      "5      0        45  #cryptocurrencies  \n",
      "6      0        45  #cryptocurrencies  \n",
      "7      0        45  #cryptocurrencies  \n",
      "8      0      1496  #cryptocurrencies  \n",
      "9      0        17  #cryptocurrencies  \n"
     ]
    }
   ],
   "source": [
    "#Read csv file into dataframe\n",
    "\n",
    "crypto = pd.read_csv('crypt.csv', names = [\"Tweets\",\"Date\",\"Likes\",\"Retweets\",\"Hashtag\"])\n",
    "print (crypto.head(10))"
   ]
  },
  {
   "cell_type": "code",
   "execution_count": 3,
   "metadata": {},
   "outputs": [],
   "source": [
    "## Clean and Sentiment Analysis the Tweet\n",
    "\n",
    "from textblob import TextBlob                    # library for processing textual data          \n",
    "import re\n",
    "\n",
    "def clean_tweet(tweet):\n",
    "    return ' '.join(re.sub(\"(@[A-Za-z0-9]+)|([^0-9A-Za-z \\t])|(\\w+:\\/\\/\\S+)\", \" \", tweet).split())\n",
    "    \n",
    "\n",
    "def get_polarity(tweet):                         # getting the polarity of each tweet after analysing it\n",
    "    analysis = TextBlob(clean_tweet(tweet))\n",
    "    if analysis.sentiment.polarity > 0:          #polarity tells whether the tweet is postive/ negative/ neutral\n",
    "        return 1\n",
    "    elif analysis.sentiment.polarity == 0:\n",
    "        return 0\n",
    "    else:\n",
    "        return -1"
   ]
  },
  {
   "cell_type": "code",
   "execution_count": 4,
   "metadata": {},
   "outputs": [],
   "source": [
    "crypto['Sentiment'] = np.array([ get_polarity(tweet) for tweet in crypto['Tweets'] ])"
   ]
  },
  {
   "cell_type": "code",
   "execution_count": 5,
   "metadata": {},
   "outputs": [
    {
     "name": "stdout",
     "output_type": "stream",
     "text": [
      "                                              Tweets                 Date  \\\n",
      "0  b'RT @MikeQuindazzi: 1,006 #blockchain technol...  2018-06-22 10:19:39   \n",
      "1  b'RT @andi_staub: Women In #Blockchain; The Wh...  2018-06-22 10:19:25   \n",
      "2  b'RT @stawealthadv: For those that invest in #...  2018-06-22 10:19:21   \n",
      "3  b'RT @PumpUpBTC: Ethereum Classic Price Defies...  2018-06-22 10:19:18   \n",
      "4  b'RT @parschain: Only a few hours, and our \\xe...  2018-06-22 10:19:18   \n",
      "5  b'RT @BitcoinPablito: #DeepOnion will moon soo...  2018-06-22 10:19:00   \n",
      "6  b'RT @BitcoinPablito: #DeepOnion will moon soo...  2018-06-22 10:18:55   \n",
      "7  b'RT @BitcoinPablito: #DeepOnion will moon soo...  2018-06-22 10:18:47   \n",
      "8  b'RT @KureCoinHub: #kurechain vision\\n\\n #kure...  2018-06-22 10:18:39   \n",
      "9  b'RT @crypto_rand: I just published \\xe2\\x80\\x...  2018-06-22 10:18:02   \n",
      "\n",
      "   Likes  Retweets            Hashtag  Sentiment  \n",
      "0      0        34  #cryptocurrencies          0  \n",
      "1      0        40  #cryptocurrencies          0  \n",
      "2      0         1  #cryptocurrencies         -1  \n",
      "3      0         1  #cryptocurrencies          1  \n",
      "4      0         4  #cryptocurrencies          1  \n",
      "5      0        45  #cryptocurrencies          1  \n",
      "6      0        45  #cryptocurrencies          1  \n",
      "7      0        45  #cryptocurrencies          1  \n",
      "8      0      1496  #cryptocurrencies          0  \n",
      "9      0        17  #cryptocurrencies          0  \n"
     ]
    }
   ],
   "source": [
    "## Print top 10 tweets and check Sentiment field added\n",
    "print(crypto.head(10))"
   ]
  },
  {
   "cell_type": "code",
   "execution_count": 7,
   "metadata": {},
   "outputs": [],
   "source": [
    "## Classifying the tweets\n",
    "\n",
    "positive_tweets = [ tweet for index, tweet in enumerate(crypto['Tweets']) if crypto['Sentiment'][index] > 0]\n",
    "neutral_tweets = [ tweet for index, tweet in enumerate(crypto['Tweets']) if crypto['Sentiment'][index] == 0]\n",
    "negative_tweets = [ tweet for index, tweet in enumerate(crypto['Tweets']) if crypto['Sentiment'][index] < 0]      \n",
    "\n",
    "positive_data = pd.DataFrame (data = [ tweet for index, tweet in enumerate(crypto['Tweets']) if crypto['Sentiment'][index] > 0])\n",
    "neutral_data = [ tweet for index, tweet in enumerate(crypto['Tweets']) if crypto['Sentiment'][index] == 0]\n",
    "negative_data = [ tweet for index, tweet in enumerate(crypto['Tweets']) if crypto['Sentiment'][index] < 0] "
   ]
  },
  {
   "cell_type": "code",
   "execution_count": 8,
   "metadata": {},
   "outputs": [
    {
     "data": {
      "text/html": [
       "<div>\n",
       "<style scoped>\n",
       "    .dataframe tbody tr th:only-of-type {\n",
       "        vertical-align: middle;\n",
       "    }\n",
       "\n",
       "    .dataframe tbody tr th {\n",
       "        vertical-align: top;\n",
       "    }\n",
       "\n",
       "    .dataframe thead th {\n",
       "        text-align: right;\n",
       "    }\n",
       "</style>\n",
       "<table border=\"1\" class=\"dataframe\">\n",
       "  <thead>\n",
       "    <tr style=\"text-align: right;\">\n",
       "      <th></th>\n",
       "      <th>0</th>\n",
       "    </tr>\n",
       "  </thead>\n",
       "  <tbody>\n",
       "    <tr>\n",
       "      <th>0</th>\n",
       "      <td>b'RT @PumpUpBTC: Ethereum Classic Price Defies...</td>\n",
       "    </tr>\n",
       "    <tr>\n",
       "      <th>1</th>\n",
       "      <td>b'RT @parschain: Only a few hours, and our \\xe...</td>\n",
       "    </tr>\n",
       "    <tr>\n",
       "      <th>2</th>\n",
       "      <td>b'RT @BitcoinPablito: #DeepOnion will moon soo...</td>\n",
       "    </tr>\n",
       "    <tr>\n",
       "      <th>3</th>\n",
       "      <td>b'RT @BitcoinPablito: #DeepOnion will moon soo...</td>\n",
       "    </tr>\n",
       "    <tr>\n",
       "      <th>4</th>\n",
       "      <td>b'RT @BitcoinPablito: #DeepOnion will moon soo...</td>\n",
       "    </tr>\n",
       "    <tr>\n",
       "      <th>5</th>\n",
       "      <td>b'RT @BitcoinPablito: #DeepOnion will moon soo...</td>\n",
       "    </tr>\n",
       "    <tr>\n",
       "      <th>6</th>\n",
       "      <td>b'RT @parschain: Only 24 hours and our #Airdro...</td>\n",
       "    </tr>\n",
       "    <tr>\n",
       "      <th>7</th>\n",
       "      <td>b'RT @CybitCorp: Read more about it at https:/...</td>\n",
       "    </tr>\n",
       "    <tr>\n",
       "      <th>8</th>\n",
       "      <td>b'RT @ICOINGOT: INGOT Coin PRE-ICO is Live to ...</td>\n",
       "    </tr>\n",
       "    <tr>\n",
       "      <th>9</th>\n",
       "      <td>b'RT @justinsuntron: Our #hodlers are two time...</td>\n",
       "    </tr>\n",
       "    <tr>\n",
       "      <th>10</th>\n",
       "      <td>b'RT @BitcoinPablito: #DeepOnion will moon soo...</td>\n",
       "    </tr>\n",
       "    <tr>\n",
       "      <th>11</th>\n",
       "      <td>b'RT @DeNetPro: Getting back to our favorite t...</td>\n",
       "    </tr>\n",
       "    <tr>\n",
       "      <th>12</th>\n",
       "      <td>b'RT @kuriharan: Empowerment. World Wealth Rep...</td>\n",
       "    </tr>\n",
       "    <tr>\n",
       "      <th>13</th>\n",
       "      <td>b'RT @DeNetPro: Getting back to our favorite t...</td>\n",
       "    </tr>\n",
       "    <tr>\n",
       "      <th>14</th>\n",
       "      <td>b'RT @andi_staub: [good paper]\\n\\n#Cryptocurre...</td>\n",
       "    </tr>\n",
       "    <tr>\n",
       "      <th>15</th>\n",
       "      <td>b'RT @ICOINGOT: INGOT Coin PRE-ICO is Live to ...</td>\n",
       "    </tr>\n",
       "    <tr>\n",
       "      <th>16</th>\n",
       "      <td>b'RT @ICOINGOT: INGOT Coin PRE-ICO is Live to ...</td>\n",
       "    </tr>\n",
       "    <tr>\n",
       "      <th>17</th>\n",
       "      <td>b'RT @cryptoviper1: Interesting indeed https:/...</td>\n",
       "    </tr>\n",
       "    <tr>\n",
       "      <th>18</th>\n",
       "      <td>b'RT @ICOINGOT: INGOT Coin PRE-ICO is Live to ...</td>\n",
       "    </tr>\n",
       "    <tr>\n",
       "      <th>19</th>\n",
       "      <td>b'RT @justinsuntron: Our #hodlers are two time...</td>\n",
       "    </tr>\n",
       "    <tr>\n",
       "      <th>20</th>\n",
       "      <td>b'French Regulators Blacklist Four Unregistere...</td>\n",
       "    </tr>\n",
       "    <tr>\n",
       "      <th>21</th>\n",
       "      <td>b'RT @ICOINGOT: INGOT Coin PRE-ICO is Live to ...</td>\n",
       "    </tr>\n",
       "    <tr>\n",
       "      <th>22</th>\n",
       "      <td>b'\\xe2\\x80\\x9cIf you go through that fiat curr...</td>\n",
       "    </tr>\n",
       "    <tr>\n",
       "      <th>23</th>\n",
       "      <td>b'RT @BitcoinPablito: #DeepOnion will moon soo...</td>\n",
       "    </tr>\n",
       "    <tr>\n",
       "      <th>24</th>\n",
       "      <td>b'RT @ICOINGOT: INGOT Coin PRE-ICO is Live to ...</td>\n",
       "    </tr>\n",
       "    <tr>\n",
       "      <th>25</th>\n",
       "      <td>b'Visit https://t.co/kXKeKm869T to learn more....</td>\n",
       "    </tr>\n",
       "    <tr>\n",
       "      <th>26</th>\n",
       "      <td>b'RT @CybitCorp: Read more about at https://t....</td>\n",
       "    </tr>\n",
       "    <tr>\n",
       "      <th>27</th>\n",
       "      <td>b'RT @CybitCorp: Read more about it at https:/...</td>\n",
       "    </tr>\n",
       "    <tr>\n",
       "      <th>28</th>\n",
       "      <td>b'RT @MikeQuindazzi: Top 5 #blockchain technol...</td>\n",
       "    </tr>\n",
       "    <tr>\n",
       "      <th>29</th>\n",
       "      <td>b'RT @Bitbosecoin: @mcbeniwal joined latest AI...</td>\n",
       "    </tr>\n",
       "    <tr>\n",
       "      <th>...</th>\n",
       "      <td>...</td>\n",
       "    </tr>\n",
       "    <tr>\n",
       "      <th>58458</th>\n",
       "      <td>b'RT @LevelNetwork: If security systems don\\xe...</td>\n",
       "    </tr>\n",
       "    <tr>\n",
       "      <th>58459</th>\n",
       "      <td>b\"RT @EvidentProof: Supply chains need blockch...</td>\n",
       "    </tr>\n",
       "    <tr>\n",
       "      <th>58460</th>\n",
       "      <td>b'RT @UHIVEsocial: Click here to learn about o...</td>\n",
       "    </tr>\n",
       "    <tr>\n",
       "      <th>58461</th>\n",
       "      <td>b'Looking for cryptocurrencies for invest ? Ju...</td>\n",
       "    </tr>\n",
       "    <tr>\n",
       "      <th>58462</th>\n",
       "      <td>b'RT @MobiuzCrypto: New Crypto Malware Targets...</td>\n",
       "    </tr>\n",
       "    <tr>\n",
       "      <th>58463</th>\n",
       "      <td>b'RT @MobiuzCrypto: New Crypto Malware Targets...</td>\n",
       "    </tr>\n",
       "    <tr>\n",
       "      <th>58464</th>\n",
       "      <td>b'RT @AbacasXchange: We stand for fair and tra...</td>\n",
       "    </tr>\n",
       "    <tr>\n",
       "      <th>58465</th>\n",
       "      <td>b'RT @Blockshipping: ICO World Cup semifinals ...</td>\n",
       "    </tr>\n",
       "    <tr>\n",
       "      <th>58466</th>\n",
       "      <td>b'RT @dataeum: Hey Dataeum supporters! At this...</td>\n",
       "    </tr>\n",
       "    <tr>\n",
       "      <th>58467</th>\n",
       "      <td>b'RT @quant_network: Our Vision ; Connect the ...</td>\n",
       "    </tr>\n",
       "    <tr>\n",
       "      <th>58468</th>\n",
       "      <td>b\"RT @AbacasXchange: Don't miss out on this on...</td>\n",
       "    </tr>\n",
       "    <tr>\n",
       "      <th>58469</th>\n",
       "      <td>b'RT @stpiindia: Indian Government Gets Ready ...</td>\n",
       "    </tr>\n",
       "    <tr>\n",
       "      <th>58470</th>\n",
       "      <td>b'RT @qurrex: You can own your #cryptoexchange...</td>\n",
       "    </tr>\n",
       "    <tr>\n",
       "      <th>58471</th>\n",
       "      <td>b'RT @Serena_fox_dero: Reminder: The @DeroProj...</td>\n",
       "    </tr>\n",
       "    <tr>\n",
       "      <th>58472</th>\n",
       "      <td>b'RT @KirkDBorne: #Blockchain \\xe2\\x80\\x94 The...</td>\n",
       "    </tr>\n",
       "    <tr>\n",
       "      <th>58473</th>\n",
       "      <td>b'RT @StuderPascal3: Join the revolution now! ...</td>\n",
       "    </tr>\n",
       "    <tr>\n",
       "      <th>58474</th>\n",
       "      <td>b'RT @BGXGlobal: At the core of the #BGX block...</td>\n",
       "    </tr>\n",
       "    <tr>\n",
       "      <th>58475</th>\n",
       "      <td>b\"RT @qurrex: We don't think about ##000000000...</td>\n",
       "    </tr>\n",
       "    <tr>\n",
       "      <th>58476</th>\n",
       "      <td>b'RT @qurrex: The Demo version of #Qurrex #ama...</td>\n",
       "    </tr>\n",
       "    <tr>\n",
       "      <th>58477</th>\n",
       "      <td>b'RT @LaneAxisVFM: Trai claims that the techno...</td>\n",
       "    </tr>\n",
       "    <tr>\n",
       "      <th>58478</th>\n",
       "      <td>b'RT @WeGoldToken: #WeGoGo social #travel plat...</td>\n",
       "    </tr>\n",
       "    <tr>\n",
       "      <th>58479</th>\n",
       "      <td>b'RT @LiquidHub: Internet of Things - In Smart...</td>\n",
       "    </tr>\n",
       "    <tr>\n",
       "      <th>58480</th>\n",
       "      <td>b'RT @joinbuglab: We had a great time at the #...</td>\n",
       "    </tr>\n",
       "    <tr>\n",
       "      <th>58481</th>\n",
       "      <td>b'RT @stpiindia: Brazil Seeks to Become First ...</td>\n",
       "    </tr>\n",
       "    <tr>\n",
       "      <th>58482</th>\n",
       "      <td>b'RT @EPNex: Join our community of more than *...</td>\n",
       "    </tr>\n",
       "    <tr>\n",
       "      <th>58483</th>\n",
       "      <td>b'RT @SupPorterInc: If you\\xe2\\x80\\x99re not t...</td>\n",
       "    </tr>\n",
       "    <tr>\n",
       "      <th>58484</th>\n",
       "      <td>b'RT @enkronos: We\\xe2\\x80\\x99re among top #AR...</td>\n",
       "    </tr>\n",
       "    <tr>\n",
       "      <th>58485</th>\n",
       "      <td>b'Very good project! @ecomi_ #Crypto #Blockcha...</td>\n",
       "    </tr>\n",
       "    <tr>\n",
       "      <th>58486</th>\n",
       "      <td>b\"RT @TechNative: #Blockchain is hugely disrup...</td>\n",
       "    </tr>\n",
       "    <tr>\n",
       "      <th>58487</th>\n",
       "      <td>b'RT @airpod_project: The AirPod offers privac...</td>\n",
       "    </tr>\n",
       "  </tbody>\n",
       "</table>\n",
       "<p>58488 rows × 1 columns</p>\n",
       "</div>"
      ],
      "text/plain": [
       "                                                       0\n",
       "0      b'RT @PumpUpBTC: Ethereum Classic Price Defies...\n",
       "1      b'RT @parschain: Only a few hours, and our \\xe...\n",
       "2      b'RT @BitcoinPablito: #DeepOnion will moon soo...\n",
       "3      b'RT @BitcoinPablito: #DeepOnion will moon soo...\n",
       "4      b'RT @BitcoinPablito: #DeepOnion will moon soo...\n",
       "5      b'RT @BitcoinPablito: #DeepOnion will moon soo...\n",
       "6      b'RT @parschain: Only 24 hours and our #Airdro...\n",
       "7      b'RT @CybitCorp: Read more about it at https:/...\n",
       "8      b'RT @ICOINGOT: INGOT Coin PRE-ICO is Live to ...\n",
       "9      b'RT @justinsuntron: Our #hodlers are two time...\n",
       "10     b'RT @BitcoinPablito: #DeepOnion will moon soo...\n",
       "11     b'RT @DeNetPro: Getting back to our favorite t...\n",
       "12     b'RT @kuriharan: Empowerment. World Wealth Rep...\n",
       "13     b'RT @DeNetPro: Getting back to our favorite t...\n",
       "14     b'RT @andi_staub: [good paper]\\n\\n#Cryptocurre...\n",
       "15     b'RT @ICOINGOT: INGOT Coin PRE-ICO is Live to ...\n",
       "16     b'RT @ICOINGOT: INGOT Coin PRE-ICO is Live to ...\n",
       "17     b'RT @cryptoviper1: Interesting indeed https:/...\n",
       "18     b'RT @ICOINGOT: INGOT Coin PRE-ICO is Live to ...\n",
       "19     b'RT @justinsuntron: Our #hodlers are two time...\n",
       "20     b'French Regulators Blacklist Four Unregistere...\n",
       "21     b'RT @ICOINGOT: INGOT Coin PRE-ICO is Live to ...\n",
       "22     b'\\xe2\\x80\\x9cIf you go through that fiat curr...\n",
       "23     b'RT @BitcoinPablito: #DeepOnion will moon soo...\n",
       "24     b'RT @ICOINGOT: INGOT Coin PRE-ICO is Live to ...\n",
       "25     b'Visit https://t.co/kXKeKm869T to learn more....\n",
       "26     b'RT @CybitCorp: Read more about at https://t....\n",
       "27     b'RT @CybitCorp: Read more about it at https:/...\n",
       "28     b'RT @MikeQuindazzi: Top 5 #blockchain technol...\n",
       "29     b'RT @Bitbosecoin: @mcbeniwal joined latest AI...\n",
       "...                                                  ...\n",
       "58458  b'RT @LevelNetwork: If security systems don\\xe...\n",
       "58459  b\"RT @EvidentProof: Supply chains need blockch...\n",
       "58460  b'RT @UHIVEsocial: Click here to learn about o...\n",
       "58461  b'Looking for cryptocurrencies for invest ? Ju...\n",
       "58462  b'RT @MobiuzCrypto: New Crypto Malware Targets...\n",
       "58463  b'RT @MobiuzCrypto: New Crypto Malware Targets...\n",
       "58464  b'RT @AbacasXchange: We stand for fair and tra...\n",
       "58465  b'RT @Blockshipping: ICO World Cup semifinals ...\n",
       "58466  b'RT @dataeum: Hey Dataeum supporters! At this...\n",
       "58467  b'RT @quant_network: Our Vision ; Connect the ...\n",
       "58468  b\"RT @AbacasXchange: Don't miss out on this on...\n",
       "58469  b'RT @stpiindia: Indian Government Gets Ready ...\n",
       "58470  b'RT @qurrex: You can own your #cryptoexchange...\n",
       "58471  b'RT @Serena_fox_dero: Reminder: The @DeroProj...\n",
       "58472  b'RT @KirkDBorne: #Blockchain \\xe2\\x80\\x94 The...\n",
       "58473  b'RT @StuderPascal3: Join the revolution now! ...\n",
       "58474  b'RT @BGXGlobal: At the core of the #BGX block...\n",
       "58475  b\"RT @qurrex: We don't think about ##000000000...\n",
       "58476  b'RT @qurrex: The Demo version of #Qurrex #ama...\n",
       "58477  b'RT @LaneAxisVFM: Trai claims that the techno...\n",
       "58478  b'RT @WeGoldToken: #WeGoGo social #travel plat...\n",
       "58479  b'RT @LiquidHub: Internet of Things - In Smart...\n",
       "58480  b'RT @joinbuglab: We had a great time at the #...\n",
       "58481  b'RT @stpiindia: Brazil Seeks to Become First ...\n",
       "58482  b'RT @EPNex: Join our community of more than *...\n",
       "58483  b'RT @SupPorterInc: If you\\xe2\\x80\\x99re not t...\n",
       "58484  b'RT @enkronos: We\\xe2\\x80\\x99re among top #AR...\n",
       "58485  b'Very good project! @ecomi_ #Crypto #Blockcha...\n",
       "58486  b\"RT @TechNative: #Blockchain is hugely disrup...\n",
       "58487  b'RT @airpod_project: The AirPod offers privac...\n",
       "\n",
       "[58488 rows x 1 columns]"
      ]
     },
     "execution_count": 8,
     "metadata": {},
     "output_type": "execute_result"
    }
   ],
   "source": [
    "positive_data"
   ]
  },
  {
   "cell_type": "code",
   "execution_count": 9,
   "metadata": {},
   "outputs": [
    {
     "name": "stdout",
     "output_type": "stream",
     "text": [
      "[\"b'RT @PumpUpBTC: Ethereum Classic Price Defies Bear Market in Single-Day Rally https://t.co/QVQsY14FeW - $BTC #bitcoin #news #cryptocurrency\\\\xe2\\\\x80\\\\xa6'\", \"b'RT @parschain: Only a few hours, and our \\\\xe2\\\\x98\\\\x84\\\\xef\\\\xb8\\\\x8f#Airdrop\\\\xe2\\\\x98\\\\x84\\\\xef\\\\xb8\\\\x8f campaign will come to the end. Don\\\\xe2\\\\x80\\\\x99t miss this opportunity to earn 200 free Pars! Ref\\\\xe2\\\\x80\\\\xa6'\", \"b'RT @BitcoinPablito: #DeepOnion will moon soon, right after incredible incoming news and the #DeepSend feature introduction. You should buy\\\\xe2\\\\x80\\\\xa6'\", \"b'RT @BitcoinPablito: #DeepOnion will moon soon, right after incredible incoming news and the #DeepSend feature introduction. You should buy\\\\xe2\\\\x80\\\\xa6'\", \"b'RT @BitcoinPablito: #DeepOnion will moon soon, right after incredible incoming news and the #DeepSend feature introduction. You should buy\\\\xe2\\\\x80\\\\xa6'\", \"b'RT @BitcoinPablito: #DeepOnion will moon soon, right after incredible incoming news and the #DeepSend feature introduction. You should buy\\\\xe2\\\\x80\\\\xa6'\", \"b'RT @parschain: Only 24 hours and our #Airdrop campaign will come to the end. Don\\\\xe2\\\\x80\\\\x99t miss this opportunity to earn 200 free Pars! Refer other\\\\xe2\\\\x80\\\\xa6'\", \"b'RT @CybitCorp: Read more about it at https://t.co/CRmgkbaXFX\\\\n#finance #blockchain #cryptocurrency #crowdfunding #ICO #crypto\\\\n#blockchain #b\\\\xe2\\\\x80\\\\xa6'\", \"b'RT @ICOINGOT: INGOT Coin PRE-ICO is Live to get up to 30% discount!!\\\\n https://t.co/qlCxRO3u8w\\\\n #Blockchaintechnology #Blockchain #Ethereum\\\\xe2\\\\x80\\\\xa6'\", \"b'RT @justinsuntron: Our #hodlers are two times more likely to invest in #cryptocurrencies like $TRX because they want to create a better wor\\\\xe2\\\\x80\\\\xa6'\"]\n"
     ]
    }
   ],
   "source": [
    "## Print the positive tweets\n",
    "\n",
    "print(positive_tweets[:10])"
   ]
  },
  {
   "cell_type": "code",
   "execution_count": 10,
   "metadata": {},
   "outputs": [
    {
     "data": {
      "text/plain": [
       " 1    58488\n",
       " 0    49010\n",
       "-1    11078\n",
       "Name: Sentiment, dtype: int64"
      ]
     },
     "execution_count": 10,
     "metadata": {},
     "output_type": "execute_result"
    }
   ],
   "source": [
    "sentiment_count = crypto['Sentiment'].value_counts()\n",
    "sentiment_count"
   ]
  },
  {
   "cell_type": "code",
   "execution_count": 11,
   "metadata": {},
   "outputs": [
    {
     "data": {
      "text/plain": [
       "#cryptocurrencies    32217\n",
       "#cryptocurrency      27862\n",
       "#mining              25825\n",
       "#blockchain          19035\n",
       "#crypto              13637\n",
       "Name: Hashtag, dtype: int64"
      ]
     },
     "execution_count": 11,
     "metadata": {},
     "output_type": "execute_result"
    }
   ],
   "source": [
    "crypto['Hashtag'].value_counts()"
   ]
  },
  {
   "cell_type": "code",
   "execution_count": 25,
   "metadata": {},
   "outputs": [
    {
     "data": {
      "image/png": "[encoded data removed]",
      "text/plain": [
       "<matplotlib.figure.Figure at 0x17a24a52d68>"
      ]
     },
     "metadata": {},
     "output_type": "display_data"
    }
   ],
   "source": [
    "#Visualization of sentiment of tweets\n",
    "\n",
    "size = [len(positive_tweets), len(negative_tweets), len(neutral_tweets)]\n",
    "colors = ['yellow', 'red', 'cyan']\n",
    "labels = 'Positive', 'Negative', 'Neutral'\n",
    "\n",
    "plt.pie(\n",
    "   x=size,\n",
    "   colors=colors,\n",
    "   labels=labels,\n",
    "   startangle=45\n",
    ")\n",
    "plt.show()"
   ]
  },
  {
   "cell_type": "code",
   "execution_count": 16,
   "metadata": {},
   "outputs": [
    {
     "data": {
      "text/plain": [
       "\"b'RT @BitcoinPablito: #DeepOnion will moon soon, right after incredible incoming news and the #DeepSend feature introduction. You should buy\\\\xe2\\\\x80\\\\xa6'\""
      ]
     },
     "execution_count": 16,
     "metadata": {},
     "output_type": "execute_result"
    }
   ],
   "source": [
    "# Print a tweet and its sentiment to check whether analysis is correct\n",
    "\n",
    "crypto[\"Tweets\"][5]"
   ]
  },
  {
   "cell_type": "code",
   "execution_count": 17,
   "metadata": {},
   "outputs": [
    {
     "data": {
      "text/plain": [
       "1"
      ]
     },
     "execution_count": 17,
     "metadata": {},
     "output_type": "execute_result"
    }
   ],
   "source": [
    "crypto[\"Sentiment\"][5]"
   ]
  },
  {
   "cell_type": "code",
   "execution_count": 13,
   "metadata": {},
   "outputs": [],
   "source": [
    "positive_data.columns = ['Text']"
   ]
  },
  {
   "cell_type": "code",
   "execution_count": 14,
   "metadata": {},
   "outputs": [
    {
     "data": {
      "text/plain": [
       "0    b'RT @PumpUpBTC: Ethereum Classic Price Defies...\n",
       "1    b'RT @parschain: Only a few hours, and our \\xe...\n",
       "2    b'RT @BitcoinPablito: #DeepOnion will moon soo...\n",
       "3    b'RT @BitcoinPablito: #DeepOnion will moon soo...\n",
       "4    b'RT @BitcoinPablito: #DeepOnion will moon soo...\n",
       "5    b'RT @BitcoinPablito: #DeepOnion will moon soo...\n",
       "6    b'RT @parschain: Only 24 hours and our #Airdro...\n",
       "7    b'RT @CybitCorp: Read more about it at https:/...\n",
       "8    b'RT @ICOINGOT: INGOT Coin PRE-ICO is Live to ...\n",
       "9    b'RT @justinsuntron: Our #hodlers are two time...\n",
       "Name: Text, dtype: object"
      ]
     },
     "execution_count": 14,
     "metadata": {},
     "output_type": "execute_result"
    }
   ],
   "source": [
    "positive_data['Text'].head(10)"
   ]
  },
  {
   "cell_type": "code",
   "execution_count": 28,
   "metadata": {},
   "outputs": [
    {
     "name": "stdout",
     "output_type": "stream",
     "text": [
      "[nltk_data] Downloading package stopwords to\n",
      "[nltk_data]     C:\\Users\\saraf\\AppData\\Roaming\\nltk_data...\n",
      "[nltk_data]   Package stopwords is already up-to-date!\n",
      "xe2: 62421\n",
      "x80: 60899\n",
      "xa6: 50510\n",
      "xf0: 16373\n",
      "x9f: 13106\n",
      "#blockchain: 8869\n",
      "x8f: 6628\n",
      "#cryptocurrency: 6056\n",
      "#crypto: 4851\n",
      ":/: 4630\n",
      "x9d: 4467\n",
      "#mining: 4315\n",
      "xb8: 4312\n",
      "xef: 4278\n",
      "nhttps: 4088\n",
      "live: 3960\n",
      "#airdrop: 3849\n",
      "first: 3767\n",
      "platform: 3683\n",
      "#cryptocurrencies: 3594\n",
      "token: 3497\n",
      "x90: 3351\n",
      "#ico: 3315\n",
      ":\\: 3098\n",
      "#bitcoin: 2799\n",
      "x8d: 2642\n",
      "information: 2586\n",
      "like: 2573\n",
      "blockchain: 2493\n",
      "release: 2449\n",
      "tomorrow: 2412\n",
      "#ethereum: 2404\n",
      "page: 2384\n",
      "mining: 2378\n",
      "x92: 2363\n",
      "ico: 2341\n",
      "x9a: 2330\n",
      "landing: 2286\n",
      "earlier: 2282\n",
      "crypto: 2211\n",
      "x93: 2190\n",
      "airdrop: 2169\n",
      "x99: 2157\n",
      "tokens: 2142\n",
      "available: 2071\n",
      "project: 2043\n",
      "great: 1998\n",
      "check: 1996\n",
      "free: 1947\n",
      "eth: 1928\n"
     ]
    }
   ],
   "source": [
    "import string\n",
    "from collections import Counter\n",
    "from nltk.tokenize import TweetTokenizer #specially to handle tweets into documents\n",
    "from nltk.corpus import stopwords # to remove stop words\n",
    "import nltk\n",
    "nltk.download('stopwords')\n",
    "from nltk.corpus import wordnet\n",
    "\n",
    "def process(text, tokenizer=TweetTokenizer(), stopwords=[]):\n",
    "    #text = text.lower() # for normalization\n",
    "    text = ' '.join(text).lower()\n",
    "    tokens = tokenizer.tokenize(text)\n",
    "    return [t for t in tokens if not t in stopwords and not t.isdigit()]\n",
    "\n",
    "tweet_tokenizer = TweetTokenizer()\n",
    "punct = list(string.punctuation)\n",
    "stopword_list = stopwords.words('english') + punct + ['b','n','co','get','new','us','join','versaratrade','rt','via', '...','b\\'rt','https','#versaratrade','@versaratrade','@', '#', 'amp', 'http', '/', '://', '_',]\n",
    "tf = Counter()\n",
    "tokens = process(text=positive_data['Text'],tokenizer=tweet_tokenizer,stopwords=stopword_list)\n",
    "tf.update(tokens)\n",
    "for tag, count in tf.most_common(50):\n",
    "        print(\"{}: {}\".format(tag, count))"
   ]
  },
  {
   "cell_type": "code",
   "execution_count": 29,
   "metadata": {},
   "outputs": [
    {
     "data": {
      "text/plain": [
       "Text(0,0.5,'Frequency')"
      ]
     },
     "execution_count": 29,
     "metadata": {},
     "output_type": "execute_result"
    },
    {
     "data": {
      "image/png": "[encoded data removed]",
      "text/plain": [
       "<matplotlib.figure.Figure at 0x17a244664a8>"
      ]
     },
     "metadata": {},
     "output_type": "display_data"
    }
   ],
   "source": [
    "import matplotlib.pyplot as plt\n",
    "y = [count for tag, count in tf.most_common(100)]\n",
    "x = range(1, len(y)+1)\n",
    "plt.bar(x, y)\n",
    "plt.title(\"Term Frequencies\")\n",
    "plt.ylabel(\"Frequency\")\n",
    "\n",
    "#There are a few words with very high frequency and then the plots are almost of the same height.\n",
    "#This indicates that there are few words that are very commonly used in tweets."
   ]
  },
  {
   "cell_type": "code",
   "execution_count": 30,
   "metadata": {},
   "outputs": [
    {
     "name": "stdout",
     "output_type": "stream",
     "text": [
      "[('blockchain', 12095), ('cryptocurrency', 7757), ('ico', 7415), ('crypto', 7321), ('mining', 6787), ('airdrop', 6212), ('cryptocurrencies', 5078), ('xef', 4281), ('nhttps', 4148), ('live', 4089), ('first', 3856), ('token', 3756), ('bitcoin', 3755), ('platform', 3718), ('ethereum', 2742), ('information', 2616), ('like', 2596), ('follow', 2560), ('eth', 2531), ('world', 2461), ('release', 2451), ('tomorrow', 2417), ('tokens', 2397), ('page', 2385), ('landing', 2286), ('earlier', 2282), ('free', 2178), ('great', 2104), ('check', 2098), ('project', 2077), ('available', 2071), ('coin', 2067), ('bounty', 2061), ('eharvesthub', 1939), ('pre', 1891), ('btc', 1862), ('know', 1813), ('win', 1811), ('sale', 1685), ('time', 1679), ('read', 1665), ('icoingot', 1637), ('blockchaintechnology', 1636), ('june', 1584), ('one', 1571), ('retweet', 1570), ('news', 1554), ('team', 1506), ('node', 1473), ('good', 1470)]\n"
     ]
    }
   ],
   "source": [
    "#from wordcloud import *\n",
    "from nltk.tokenize import wordpunct_tokenize\n",
    "from subprocess import check_output\n",
    "\n",
    "def process(text, tokenizer=TweetTokenizer(), stopwords=[]):\n",
    "    text = ' '.join(text).lower()\n",
    "    tokens = tokenizer.tokenize(text)\n",
    "    return [tok for tok in tokens if not tok in stopwords and not tok.isdigit()]\n",
    "\n",
    "tweet_tokenizer = TweetTokenizer()\n",
    "punct = list(string.punctuation)\n",
    "stopword_list = stopwords.words('english') + punct + ['b','n','co','versaratrade','get','new','us','join','rt','via', '...','b\\'rt','https','#versaratrade','@versaratrade','@', '#', 'amp', 'http', '/', '://', '_',]\n",
    "series_tweets = positive_data['Text']\n",
    "tweet_str = series_tweets.str.cat(sep = ' ')\n",
    "list_of_words = [i.lower() for i in wordpunct_tokenize(tweet_str) if i.lower() not in stopword_list and i.isalpha()]\n",
    "wordfreqdist = nltk.FreqDist(list_of_words)\n",
    "mostcommon = wordfreqdist.most_common(50)\n",
    "print(mostcommon)\n"
   ]
  },
  {
   "cell_type": "code",
   "execution_count": 31,
   "metadata": {},
   "outputs": [],
   "source": [
    "mostcom = str(mostcommon)"
   ]
  },
  {
   "cell_type": "code",
   "execution_count": 32,
   "metadata": {},
   "outputs": [],
   "source": [
    "data_new = pd.DataFrame(mostcommon, columns = ['word','frequency'])"
   ]
  },
  {
   "cell_type": "code",
   "execution_count": 33,
   "metadata": {},
   "outputs": [
    {
     "data": {
      "text/html": [
       "<div>\n",
       "<style scoped>\n",
       "    .dataframe tbody tr th:only-of-type {\n",
       "        vertical-align: middle;\n",
       "    }\n",
       "\n",
       "    .dataframe tbody tr th {\n",
       "        vertical-align: top;\n",
       "    }\n",
       "\n",
       "    .dataframe thead th {\n",
       "        text-align: right;\n",
       "    }\n",
       "</style>\n",
       "<table border=\"1\" class=\"dataframe\">\n",
       "  <thead>\n",
       "    <tr style=\"text-align: right;\">\n",
       "      <th></th>\n",
       "      <th>word</th>\n",
       "      <th>frequency</th>\n",
       "    </tr>\n",
       "  </thead>\n",
       "  <tbody>\n",
       "    <tr>\n",
       "      <th>0</th>\n",
       "      <td>blockchain</td>\n",
       "      <td>12095</td>\n",
       "    </tr>\n",
       "    <tr>\n",
       "      <th>1</th>\n",
       "      <td>cryptocurrency</td>\n",
       "      <td>7757</td>\n",
       "    </tr>\n",
       "    <tr>\n",
       "      <th>2</th>\n",
       "      <td>ico</td>\n",
       "      <td>7415</td>\n",
       "    </tr>\n",
       "    <tr>\n",
       "      <th>3</th>\n",
       "      <td>crypto</td>\n",
       "      <td>7321</td>\n",
       "    </tr>\n",
       "    <tr>\n",
       "      <th>4</th>\n",
       "      <td>mining</td>\n",
       "      <td>6787</td>\n",
       "    </tr>\n",
       "    <tr>\n",
       "      <th>5</th>\n",
       "      <td>airdrop</td>\n",
       "      <td>6212</td>\n",
       "    </tr>\n",
       "    <tr>\n",
       "      <th>6</th>\n",
       "      <td>cryptocurrencies</td>\n",
       "      <td>5078</td>\n",
       "    </tr>\n",
       "    <tr>\n",
       "      <th>7</th>\n",
       "      <td>xef</td>\n",
       "      <td>4281</td>\n",
       "    </tr>\n",
       "    <tr>\n",
       "      <th>8</th>\n",
       "      <td>nhttps</td>\n",
       "      <td>4148</td>\n",
       "    </tr>\n",
       "    <tr>\n",
       "      <th>9</th>\n",
       "      <td>live</td>\n",
       "      <td>4089</td>\n",
       "    </tr>\n",
       "  </tbody>\n",
       "</table>\n",
       "</div>"
      ],
      "text/plain": [
       "               word  frequency\n",
       "0        blockchain      12095\n",
       "1    cryptocurrency       7757\n",
       "2               ico       7415\n",
       "3            crypto       7321\n",
       "4            mining       6787\n",
       "5           airdrop       6212\n",
       "6  cryptocurrencies       5078\n",
       "7               xef       4281\n",
       "8            nhttps       4148\n",
       "9              live       4089"
      ]
     },
     "execution_count": 33,
     "metadata": {},
     "output_type": "execute_result"
    }
   ],
   "source": [
    "data_new.head(10)"
   ]
  },
  {
   "cell_type": "code",
   "execution_count": 34,
   "metadata": {},
   "outputs": [
    {
     "data": {
      "image/png": "[encoded data removed]",
      "text/plain": [
       "<matplotlib.figure.Figure at 0x17a30893f28>"
      ]
     },
     "metadata": {},
     "output_type": "display_data"
    }
   ],
   "source": [
    "plt.barh(range(len(mostcommon)),[val[1] for val in mostcommon], align='center')\n",
    "plt.yticks(range(len(mostcommon)), [val[0] for val in mostcommon])\n",
    "plt.show()"
   ]
  },
  {
   "cell_type": "code",
   "execution_count": 35,
   "metadata": {},
   "outputs": [],
   "source": [
    "from wordcloud import WordCloud"
   ]
  },
  {
   "cell_type": "code",
   "execution_count": 36,
   "metadata": {},
   "outputs": [
    {
     "data": {
      "text/plain": [
       "(-0.5, 399.5, 199.5, -0.5)"
      ]
     },
     "execution_count": 36,
     "metadata": {},
     "output_type": "execute_result"
    },
    {
     "data": {
      "image/png": "[encoded data removed]",
      "text/plain": [
       "<matplotlib.figure.Figure at 0x17a24a0fe10>"
      ]
     },
     "metadata": {},
     "output_type": "display_data"
    }
   ],
   "source": [
    "\n",
    "wordcloud = WordCloud(max_font_size=60\n",
    "                      , background_color=\"white\"\n",
    "                      , stopwords=stopword_list\n",
    "                      , collocations=False).generate(mostcom)\n",
    "\n",
    "# Display the generated image with matplotlib \n",
    "plt.figure(figsize=(10,8))\n",
    "plt.imshow(wordcloud)\n",
    "plt.title('Positive Sentiments Word Cloud')\n",
    "plt.savefig(\"wordcloud.png\")\n",
    "plt.axis(\"off\")"
   ]
  },
  {
   "cell_type": "code",
   "execution_count": null,
   "metadata": {},
   "outputs": [],
   "source": []
  }
 ],
 "metadata": {
  "kernelspec": {
   "display_name": "Python 3",
   "language": "python",
   "name": "python3"
  },
  "language_info": {
   "codemirror_mode": {
    "name": "ipython",
    "version": 3
   },
   "file_extension": ".py",
   "mimetype": "text/x-python",
   "name": "python",
   "nbconvert_exporter": "python",
   "pygments_lexer": "ipython3",
   "version": "3.6.4"
  }
 },
 "nbformat": 4,
 "nbformat_minor": 2
}
